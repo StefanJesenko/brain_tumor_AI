{
 "cells": [
  {
   "cell_type": "code",
   "execution_count": null,
   "metadata": {
    "_cell_guid": "b1076dfc-b9ad-4769-8c92-a6c4dae69d19",
    "_uuid": "8f2839f25d086af736a60e9eeb907d3b93b6e0e5",
    "execution": {
     "iopub.execute_input": "2025-01-24T14:09:56.100882Z",
     "iopub.status.busy": "2025-01-24T14:09:56.100305Z",
     "iopub.status.idle": "2025-01-24T14:18:47.005836Z",
     "shell.execute_reply": "2025-01-24T14:18:47.004698Z",
     "shell.execute_reply.started": "2025-01-24T14:09:56.100842Z"
    },
    "trusted": true
   },
   "outputs": [],
   "source": [
    "import os\n",
    "import numpy as np\n",
    "import pandas as pd\n",
    "from PIL import Image\n",
    "\n",
    "\n",
    "input_folders = {\n",
    "    0: \"/kaggle/input/brain-tumors-256x256/Data/glioma_tumor\",\n",
    "    1: \"/kaggle/input/brain-tumors-256x256/Data/meningioma_tumor\",\n",
    "    2: \"/kaggle/input/brain-tumors-256x256/Data/normal\",\n",
    "    3: \"/kaggle/input/brain-tumors-256x256/Data/pituitary_tumor\"\n",
    "}\n",
    "\n",
    "\n",
    "output_csv_path = \"/kaggle/working/combined_dataset.csv\"\n",
    "data_rows = []\n",
    "\n",
    "\n",
    "for label, folder_path in input_folders.items():\n",
    "    for file_name in os.listdir(folder_path):\n",
    "        if file_name.endswith(\".jpg\"):\n",
    "            file_path = os.path.join(folder_path, file_name)\n",
    "\n",
    "           \n",
    "            image = Image.open(file_path).convert(\"L\")\n",
    "\n",
    "           \n",
    "            image = image.resize((256, 256))\n",
    "\n",
    "          \n",
    "            image_array = np.array(image).flatten()\n",
    "\n",
    "           \n",
    "            row = [label] + image_array.tolist()\n",
    "            data_rows.append(row)\n",
    "\n",
    "\n",
    "columns = [\"label\"] + [f\"pixel{i}\" for i in range(256 * 256)]\n",
    "dataset = pd.DataFrame(data_rows, columns=columns)\n",
    "\n",
    "\n",
    "dataset.to_csv(output_csv_path, index=False)\n",
    "\n",
    "print(f\"Dataset saved to {output_csv_path}\")\n",
    "\n",
    "\n"
   ]
  },
  {
   "cell_type": "code",
   "execution_count": null,
   "metadata": {
    "execution": {
     "iopub.execute_input": "2025-01-24T15:07:14.513809Z",
     "iopub.status.busy": "2025-01-24T15:07:14.513413Z",
     "iopub.status.idle": "2025-01-24T15:10:55.746212Z",
     "shell.execute_reply": "2025-01-24T15:10:55.744659Z",
     "shell.execute_reply.started": "2025-01-24T15:07:14.513778Z"
    },
    "trusted": true
   },
   "outputs": [],
   "source": [
    "data = pd.read_csv('/kaggle/working/combined_dataset.csv')\n",
    "\n",
    "data = np.array(data)\n",
    "m, n = data.shape\n",
    "np.random.shuffle(data)\n",
    "\n",
    "data_train = data[1000:m].T\n",
    "Y_train = data_train[0]\n",
    "X_train = data_train[1:n]\n",
    "X_train = X_train / 255.\n",
    "_,m_train = X_train.shape\n",
    "\n"
   ]
  },
  {
   "cell_type": "code",
   "execution_count": null,
   "metadata": {
    "execution": {
     "iopub.execute_input": "2025-01-24T15:29:20.984244Z",
     "iopub.status.busy": "2025-01-24T15:29:20.983871Z",
     "iopub.status.idle": "2025-01-24T15:29:20.991149Z",
     "shell.execute_reply": "2025-01-24T15:29:20.989772Z",
     "shell.execute_reply.started": "2025-01-24T15:29:20.984213Z"
    },
    "trusted": true
   },
   "outputs": [],
   "source": [
    "def init_params():\n",
    "    W1 = np.random.rand(16384, 65536) - 0.5\n",
    "    b1 = np.random.rand(16384, 1) - 0.5\n",
    "    W2 = np.random.rand(4096, 16384) - 0.5\n",
    "    b2 = np.random.rand(4096, 1) - 0.5\n",
    "    W3 = np.random.rand(1024, 4096) - 0.5\n",
    "    b3 = np.random.rand(1024, 1) - 0.5\n",
    "    W4 = np.random.rand(4, 1024) - 0.5\n",
    "    b4 = np.random.rand(4, 1) - 0.5\n",
    "    return W1, b1, W2, b2, W3, b3, W4, b4"
   ]
  },
  {
   "cell_type": "code",
   "execution_count": null,
   "metadata": {
    "trusted": true
   },
   "outputs": [],
   "source": [
    "# Activation Functions\n",
    "\n",
    "def ReLU(Z):\n",
    "    return np.maximum(0, Z)\n",
    "\n",
    "def softmax(Z):\n",
    "    expZ = np.exp(Z - np.max(Z, axis=0, keepdims=True))  \n",
    "    return expZ / np.sum(expZ, axis=0, keepdims=True)"
   ]
  },
  {
   "cell_type": "code",
   "execution_count": null,
   "metadata": {
    "trusted": true
   },
   "outputs": [],
   "source": [
    "def forward_prop(X, W1, b1, W2, b2, W3, b3, W4, b4):\n",
    "    # L1\n",
    "    Z1 = np.dot(W1, X) + b1\n",
    "    A1 = ReLU(Z1)\n",
    "    # L2\n",
    "    Z2 = np.dot(W2, A1) + b2\n",
    "    A2 = ReLU(Z2)\n",
    "    # L3\n",
    "    Z3 = np.dot(W3, A2) + b3\n",
    "    A3 = ReLU(Z3)\n",
    "    # L4/Output\n",
    "    Z4 = np.dot(W4, A3) + b4\n",
    "    A4 = softmax(Z4)\n",
    "    \n",
    "    return Z1, A1, Z2, A2, Z3, A3, Z4, A4"
   ]
  }
 ],
 "metadata": {
  "kaggle": {
   "accelerator": "none",
   "dataSources": [
    {
     "datasetId": 3754858,
     "sourceId": 6496514,
     "sourceType": "datasetVersion"
    }
   ],
   "dockerImageVersionId": 30839,
   "isGpuEnabled": false,
   "isInternetEnabled": false,
   "language": "python",
   "sourceType": "notebook"
  },
  "kernelspec": {
   "display_name": "Python 3",
   "language": "python",
   "name": "python3"
  },
  "language_info": {
   "codemirror_mode": {
    "name": "ipython",
    "version": 3
   },
   "file_extension": ".py",
   "mimetype": "text/x-python",
   "name": "python",
   "nbconvert_exporter": "python",
   "pygments_lexer": "ipython3",
   "version": "3.10.12"
  }
 },
 "nbformat": 4,
 "nbformat_minor": 4
}
